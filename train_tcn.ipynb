{
 "cells": [
  {
   "cell_type": "code",
   "execution_count": 2,
   "metadata": {},
   "outputs": [],
   "source": [
    "import os, sys\n",
    "import pandas as pd\n",
    "import numpy as np\n",
    "import torch\n",
    "import torch.nn as nn\n",
    "from torch.utils.data import Dataset, DataLoader\n",
    "import torch.optim as optim\n",
    "from tqdm import tqdm\n",
    "from sklearn.preprocessing import MinMaxScaler, StandardScaler\n",
    "from data_loader import *\n",
    "import model_tcn\n",
    "from model_tcn import *\n",
    "import matplotlib.pyplot as plt\n",
    "import wandb\n",
    "\n",
    "if torch.cuda.is_available():\n",
    "  dev = \"cuda:1\"\n",
    "else:\n",
    "  dev = \"cpu\"\n",
    "device = torch.device(dev)"
   ]
  },
  {
   "cell_type": "code",
   "execution_count": 3,
   "metadata": {},
   "outputs": [
    {
     "data": {
      "text/plain": [
       "5634"
      ]
     },
     "execution_count": 3,
     "metadata": {},
     "output_type": "execute_result"
    }
   ],
   "source": [
    "### 데이터 읽기 ###\n",
    "file_name = './data/df.csv'\n",
    "data = pd.read_csv(file_name)\n",
    "data['날짜'] = pd.to_datetime(data['날짜'])\n",
    "data.set_index('날짜', inplace=True)\n",
    "len(data)"
   ]
  },
  {
   "cell_type": "code",
   "execution_count": 4,
   "metadata": {},
   "outputs": [
    {
     "data": {
      "text/html": [
       "<div>\n",
       "<style scoped>\n",
       "    .dataframe tbody tr th:only-of-type {\n",
       "        vertical-align: middle;\n",
       "    }\n",
       "\n",
       "    .dataframe tbody tr th {\n",
       "        vertical-align: top;\n",
       "    }\n",
       "\n",
       "    .dataframe thead th {\n",
       "        text-align: right;\n",
       "    }\n",
       "</style>\n",
       "<table border=\"1\" class=\"dataframe\">\n",
       "  <thead>\n",
       "    <tr style=\"text-align: right;\">\n",
       "      <th></th>\n",
       "      <th>종가</th>\n",
       "      <th>MA-5</th>\n",
       "      <th>MA-15</th>\n",
       "      <th>EMA-5</th>\n",
       "      <th>EMA-15</th>\n",
       "      <th>RSI</th>\n",
       "    </tr>\n",
       "    <tr>\n",
       "      <th>날짜</th>\n",
       "      <th></th>\n",
       "      <th></th>\n",
       "      <th></th>\n",
       "      <th></th>\n",
       "      <th></th>\n",
       "      <th></th>\n",
       "    </tr>\n",
       "  </thead>\n",
       "  <tbody>\n",
       "    <tr>\n",
       "      <th>2000-01-24</th>\n",
       "      <td>5700</td>\n",
       "      <td>5936.0</td>\n",
       "      <td>5828.666667</td>\n",
       "      <td>5865.593036</td>\n",
       "      <td>5896.493569</td>\n",
       "      <td>39.153439</td>\n",
       "    </tr>\n",
       "    <tr>\n",
       "      <th>2000-01-25</th>\n",
       "      <td>5440</td>\n",
       "      <td>5804.0</td>\n",
       "      <td>5784.000000</td>\n",
       "      <td>5723.728691</td>\n",
       "      <td>5839.431873</td>\n",
       "      <td>45.679012</td>\n",
       "    </tr>\n",
       "    <tr>\n",
       "      <th>2000-01-26</th>\n",
       "      <td>5480</td>\n",
       "      <td>5708.0</td>\n",
       "      <td>5777.333333</td>\n",
       "      <td>5642.485794</td>\n",
       "      <td>5794.502889</td>\n",
       "      <td>45.679012</td>\n",
       "    </tr>\n",
       "    <tr>\n",
       "      <th>2000-01-27</th>\n",
       "      <td>5520</td>\n",
       "      <td>5604.0</td>\n",
       "      <td>5770.666667</td>\n",
       "      <td>5601.657196</td>\n",
       "      <td>5760.190028</td>\n",
       "      <td>49.367089</td>\n",
       "    </tr>\n",
       "    <tr>\n",
       "      <th>2000-01-28</th>\n",
       "      <td>5820</td>\n",
       "      <td>5592.0</td>\n",
       "      <td>5789.333333</td>\n",
       "      <td>5674.438131</td>\n",
       "      <td>5767.666274</td>\n",
       "      <td>51.515152</td>\n",
       "    </tr>\n",
       "    <tr>\n",
       "      <th>...</th>\n",
       "      <td>...</td>\n",
       "      <td>...</td>\n",
       "      <td>...</td>\n",
       "      <td>...</td>\n",
       "      <td>...</td>\n",
       "      <td>...</td>\n",
       "    </tr>\n",
       "    <tr>\n",
       "      <th>2023-09-21</th>\n",
       "      <td>68900</td>\n",
       "      <td>70100.0</td>\n",
       "      <td>70533.333333</td>\n",
       "      <td>69790.404298</td>\n",
       "      <td>69914.872558</td>\n",
       "      <td>35.616438</td>\n",
       "    </tr>\n",
       "    <tr>\n",
       "      <th>2023-09-22</th>\n",
       "      <td>68800</td>\n",
       "      <td>69460.0</td>\n",
       "      <td>70386.666667</td>\n",
       "      <td>69460.269532</td>\n",
       "      <td>69775.513488</td>\n",
       "      <td>33.333333</td>\n",
       "    </tr>\n",
       "    <tr>\n",
       "      <th>2023-09-25</th>\n",
       "      <td>69400</td>\n",
       "      <td>69300.0</td>\n",
       "      <td>70266.666667</td>\n",
       "      <td>69440.179688</td>\n",
       "      <td>69728.574302</td>\n",
       "      <td>41.095890</td>\n",
       "    </tr>\n",
       "    <tr>\n",
       "      <th>2023-09-26</th>\n",
       "      <td>68600</td>\n",
       "      <td>69060.0</td>\n",
       "      <td>70126.666667</td>\n",
       "      <td>69160.119792</td>\n",
       "      <td>69587.502514</td>\n",
       "      <td>40.540541</td>\n",
       "    </tr>\n",
       "    <tr>\n",
       "      <th>2023-09-27</th>\n",
       "      <td>68400</td>\n",
       "      <td>68820.0</td>\n",
       "      <td>70020.000000</td>\n",
       "      <td>68906.746528</td>\n",
       "      <td>69439.064700</td>\n",
       "      <td>36.111111</td>\n",
       "    </tr>\n",
       "  </tbody>\n",
       "</table>\n",
       "<p>5634 rows × 6 columns</p>\n",
       "</div>"
      ],
      "text/plain": [
       "               종가     MA-5         MA-15         EMA-5        EMA-15  \\\n",
       "날짜                                                                     \n",
       "2000-01-24   5700   5936.0   5828.666667   5865.593036   5896.493569   \n",
       "2000-01-25   5440   5804.0   5784.000000   5723.728691   5839.431873   \n",
       "2000-01-26   5480   5708.0   5777.333333   5642.485794   5794.502889   \n",
       "2000-01-27   5520   5604.0   5770.666667   5601.657196   5760.190028   \n",
       "2000-01-28   5820   5592.0   5789.333333   5674.438131   5767.666274   \n",
       "...           ...      ...           ...           ...           ...   \n",
       "2023-09-21  68900  70100.0  70533.333333  69790.404298  69914.872558   \n",
       "2023-09-22  68800  69460.0  70386.666667  69460.269532  69775.513488   \n",
       "2023-09-25  69400  69300.0  70266.666667  69440.179688  69728.574302   \n",
       "2023-09-26  68600  69060.0  70126.666667  69160.119792  69587.502514   \n",
       "2023-09-27  68400  68820.0  70020.000000  68906.746528  69439.064700   \n",
       "\n",
       "                  RSI  \n",
       "날짜                     \n",
       "2000-01-24  39.153439  \n",
       "2000-01-25  45.679012  \n",
       "2000-01-26  45.679012  \n",
       "2000-01-27  49.367089  \n",
       "2000-01-28  51.515152  \n",
       "...               ...  \n",
       "2023-09-21  35.616438  \n",
       "2023-09-22  33.333333  \n",
       "2023-09-25  41.095890  \n",
       "2023-09-26  40.540541  \n",
       "2023-09-27  36.111111  \n",
       "\n",
       "[5634 rows x 6 columns]"
      ]
     },
     "execution_count": 4,
     "metadata": {},
     "output_type": "execute_result"
    }
   ],
   "source": [
    "data.drop('저가', axis=1, inplace=True)\n",
    "data.drop('고가', axis=1, inplace=True)\n",
    "data"
   ]
  },
  {
   "cell_type": "code",
   "execution_count": 6,
   "metadata": {},
   "outputs": [
    {
     "data": {
      "text/html": [
       "<div>\n",
       "<style scoped>\n",
       "    .dataframe tbody tr th:only-of-type {\n",
       "        vertical-align: middle;\n",
       "    }\n",
       "\n",
       "    .dataframe tbody tr th {\n",
       "        vertical-align: top;\n",
       "    }\n",
       "\n",
       "    .dataframe thead th {\n",
       "        text-align: right;\n",
       "    }\n",
       "</style>\n",
       "<table border=\"1\" class=\"dataframe\">\n",
       "  <thead>\n",
       "    <tr style=\"text-align: right;\">\n",
       "      <th></th>\n",
       "      <th>종가</th>\n",
       "      <th>MA-5</th>\n",
       "      <th>MA-15</th>\n",
       "      <th>EMA-5</th>\n",
       "      <th>EMA-15</th>\n",
       "      <th>RSI</th>\n",
       "    </tr>\n",
       "    <tr>\n",
       "      <th>날짜</th>\n",
       "      <th></th>\n",
       "      <th></th>\n",
       "      <th></th>\n",
       "      <th></th>\n",
       "      <th></th>\n",
       "      <th></th>\n",
       "    </tr>\n",
       "  </thead>\n",
       "  <tbody>\n",
       "    <tr>\n",
       "      <th>2000-01-25</th>\n",
       "      <td>-0.046687</td>\n",
       "      <td>-0.022488</td>\n",
       "      <td>-0.007693</td>\n",
       "      <td>-0.024483</td>\n",
       "      <td>-0.009724</td>\n",
       "      <td>45.679012</td>\n",
       "    </tr>\n",
       "    <tr>\n",
       "      <th>2000-01-26</th>\n",
       "      <td>0.007326</td>\n",
       "      <td>-0.016679</td>\n",
       "      <td>-0.001153</td>\n",
       "      <td>-0.014296</td>\n",
       "      <td>-0.007724</td>\n",
       "      <td>45.679012</td>\n",
       "    </tr>\n",
       "    <tr>\n",
       "      <th>2000-01-27</th>\n",
       "      <td>0.007273</td>\n",
       "      <td>-0.018388</td>\n",
       "      <td>-0.001155</td>\n",
       "      <td>-0.007262</td>\n",
       "      <td>-0.005939</td>\n",
       "      <td>49.367089</td>\n",
       "    </tr>\n",
       "    <tr>\n",
       "      <th>2000-01-28</th>\n",
       "      <td>0.052922</td>\n",
       "      <td>-0.002144</td>\n",
       "      <td>0.003230</td>\n",
       "      <td>0.012909</td>\n",
       "      <td>0.001297</td>\n",
       "      <td>51.515152</td>\n",
       "    </tr>\n",
       "    <tr>\n",
       "      <th>2000-01-31</th>\n",
       "      <td>-0.042111</td>\n",
       "      <td>-0.004301</td>\n",
       "      <td>-0.002190</td>\n",
       "      <td>-0.005563</td>\n",
       "      <td>-0.004075</td>\n",
       "      <td>44.973545</td>\n",
       "    </tr>\n",
       "    <tr>\n",
       "      <th>...</th>\n",
       "      <td>...</td>\n",
       "      <td>...</td>\n",
       "      <td>...</td>\n",
       "      <td>...</td>\n",
       "      <td>...</td>\n",
       "      <td>...</td>\n",
       "    </tr>\n",
       "    <tr>\n",
       "      <th>2023-09-21</th>\n",
       "      <td>-0.010108</td>\n",
       "      <td>-0.007957</td>\n",
       "      <td>0.001892</td>\n",
       "      <td>-0.006359</td>\n",
       "      <td>-0.002072</td>\n",
       "      <td>35.616438</td>\n",
       "    </tr>\n",
       "    <tr>\n",
       "      <th>2023-09-22</th>\n",
       "      <td>-0.001452</td>\n",
       "      <td>-0.009172</td>\n",
       "      <td>-0.002082</td>\n",
       "      <td>-0.004742</td>\n",
       "      <td>-0.001995</td>\n",
       "      <td>33.333333</td>\n",
       "    </tr>\n",
       "    <tr>\n",
       "      <th>2023-09-25</th>\n",
       "      <td>0.008683</td>\n",
       "      <td>-0.002306</td>\n",
       "      <td>-0.001706</td>\n",
       "      <td>-0.000289</td>\n",
       "      <td>-0.000673</td>\n",
       "      <td>41.095890</td>\n",
       "    </tr>\n",
       "    <tr>\n",
       "      <th>2023-09-26</th>\n",
       "      <td>-0.011594</td>\n",
       "      <td>-0.003469</td>\n",
       "      <td>-0.001994</td>\n",
       "      <td>-0.004041</td>\n",
       "      <td>-0.002025</td>\n",
       "      <td>40.540541</td>\n",
       "    </tr>\n",
       "    <tr>\n",
       "      <th>2023-09-27</th>\n",
       "      <td>-0.002920</td>\n",
       "      <td>-0.003481</td>\n",
       "      <td>-0.001522</td>\n",
       "      <td>-0.003670</td>\n",
       "      <td>-0.002135</td>\n",
       "      <td>36.111111</td>\n",
       "    </tr>\n",
       "  </tbody>\n",
       "</table>\n",
       "<p>5633 rows × 6 columns</p>\n",
       "</div>"
      ],
      "text/plain": [
       "                  종가      MA-5     MA-15     EMA-5    EMA-15        RSI\n",
       "날짜                                                                     \n",
       "2000-01-25 -0.046687 -0.022488 -0.007693 -0.024483 -0.009724  45.679012\n",
       "2000-01-26  0.007326 -0.016679 -0.001153 -0.014296 -0.007724  45.679012\n",
       "2000-01-27  0.007273 -0.018388 -0.001155 -0.007262 -0.005939  49.367089\n",
       "2000-01-28  0.052922 -0.002144  0.003230  0.012909  0.001297  51.515152\n",
       "2000-01-31 -0.042111 -0.004301 -0.002190 -0.005563 -0.004075  44.973545\n",
       "...              ...       ...       ...       ...       ...        ...\n",
       "2023-09-21 -0.010108 -0.007957  0.001892 -0.006359 -0.002072  35.616438\n",
       "2023-09-22 -0.001452 -0.009172 -0.002082 -0.004742 -0.001995  33.333333\n",
       "2023-09-25  0.008683 -0.002306 -0.001706 -0.000289 -0.000673  41.095890\n",
       "2023-09-26 -0.011594 -0.003469 -0.001994 -0.004041 -0.002025  40.540541\n",
       "2023-09-27 -0.002920 -0.003481 -0.001522 -0.003670 -0.002135  36.111111\n",
       "\n",
       "[5633 rows x 6 columns]"
      ]
     },
     "execution_count": 6,
     "metadata": {},
     "output_type": "execute_result"
    }
   ],
   "source": [
    "### 로그리턴으로 변환 ###\n",
    "#data['시가'] = np.log(data['시가'] / data['시가'].shift(1))\n",
    "#data['고가'] = np.log(data['고가'] / data['고가'].shift(1))\n",
    "#data['저가'] = np.log(data['저가'] / data['저가'].shift(1))\n",
    "data['종가'] = np.log(data['종가'] / data['종가'].shift(1))\n",
    "data['MA-5'] = np.log(data['MA-5'] / data['MA-5'].shift(1))\n",
    "data['MA-15'] = np.log(data['MA-15'] / data['MA-15'].shift(1))\n",
    "data['EMA-5'] = np.log(data['EMA-5'] / data['EMA-5'].shift(1))\n",
    "data['EMA-15'] = np.log(data['EMA-15'] / data['EMA-15'].shift(1))\n",
    "data = data.iloc[1:]\n",
    "data"
   ]
  },
  {
   "cell_type": "code",
   "execution_count": 5,
   "metadata": {},
   "outputs": [
    {
     "name": "stdout",
     "output_type": "stream",
     "text": [
      "(5633, 8)\n"
     ]
    }
   ],
   "source": [
    "### 데이터 전처리 ###c\n",
    "seq_len = 127\n",
    "# window = {5, 7}\n",
    "# target = {MA-7 or EMA-7}\n",
    "window = 10\n",
    "price = data.to_numpy()\n",
    "idx = data.index\n",
    "print(price.shape)"
   ]
  },
  {
   "cell_type": "code",
   "execution_count": 6,
   "metadata": {},
   "outputs": [
    {
     "name": "stdout",
     "output_type": "stream",
     "text": [
      "train length :  3379 test length :  1128\n",
      "991\n"
     ]
    }
   ],
   "source": [
    "### train / test 분리 ###\n",
    "train_size = int(len(price) * 0.6)\n",
    "val_size = int(len(price) * 0.2)\n",
    "\n",
    "train_X = price[ : train_size]\n",
    "val_X = price[train_size : train_size + val_size]\n",
    "test_X = price[train_size + val_size :]\n",
    "\n",
    "train_idx = idx[seq_len + window : train_size]\n",
    "val_idx = idx[train_size + seq_len + window : train_size + val_size]\n",
    "test_idx = idx[train_size + val_size + seq_len + window : ]\n",
    "\n",
    "print(\"train length : \", len(train_X), \"test length : \", len(test_X))\n",
    "print(len(test_idx))"
   ]
  },
  {
   "cell_type": "code",
   "execution_count": 7,
   "metadata": {},
   "outputs": [
    {
     "name": "stdout",
     "output_type": "stream",
     "text": [
      "(3379, 8)\n",
      "(1126, 8)\n",
      "(1128, 8)\n"
     ]
    }
   ],
   "source": [
    "### 데이터 스케일링 ###\n",
    "mean = np.mean(train_X, axis=0)\n",
    "std = np.std(train_X, axis=0)\n",
    "\n",
    "train_scaled = (train_X - mean) / std\n",
    "val_scaled = (val_X - mean) / std\n",
    "test_scaled = (test_X - mean)/ std\n",
    "\n",
    "print(train_scaled.shape)\n",
    "print(val_scaled.shape)\n",
    "print(test_scaled.shape)"
   ]
  },
  {
   "cell_type": "code",
   "execution_count": 8,
   "metadata": {},
   "outputs": [
    {
     "name": "stderr",
     "output_type": "stream",
     "text": [
      "Failed to detect the name of this notebook, you can set it manually with the WANDB_NOTEBOOK_NAME environment variable to enable code saving.\n"
     ]
    },
    {
     "name": "stderr",
     "output_type": "stream",
     "text": [
      "\u001b[34m\u001b[1mwandb\u001b[0m: W&B API key is configured. Use \u001b[1m`wandb login --relogin`\u001b[0m to force relogin\n"
     ]
    },
    {
     "data": {
      "application/vnd.jupyter.widget-view+json": {
       "model_id": "be1ef8941b3f4e7cbd568686633d6204",
       "version_major": 2,
       "version_minor": 0
      },
      "text/plain": [
       "VBox(children=(Label(value='Waiting for wandb.init()...\\r'), FloatProgress(value=0.01111335318742527, max=1.0)…"
      ]
     },
     "metadata": {},
     "output_type": "display_data"
    },
    {
     "data": {
      "text/html": [
       "Tracking run with wandb version 0.15.12"
      ],
      "text/plain": [
       "<IPython.core.display.HTML object>"
      ]
     },
     "metadata": {},
     "output_type": "display_data"
    },
    {
     "data": {
      "text/html": [
       "Run data is saved locally in <code>/workspace/TCN/wandb/run-20231024_053343-pyoban93</code>"
      ],
      "text/plain": [
       "<IPython.core.display.HTML object>"
      ]
     },
     "metadata": {},
     "output_type": "display_data"
    },
    {
     "data": {
      "text/html": [
       "Syncing run <strong><a href='https://wandb.ai/dwryu/TCN/runs/pyoban93' target=\"_blank\">iconic-terrain-74</a></strong> to <a href='https://wandb.ai/dwryu/TCN' target=\"_blank\">Weights & Biases</a> (<a href='https://wandb.me/run' target=\"_blank\">docs</a>)<br/>"
      ],
      "text/plain": [
       "<IPython.core.display.HTML object>"
      ]
     },
     "metadata": {},
     "output_type": "display_data"
    },
    {
     "data": {
      "text/html": [
       " View project at <a href='https://wandb.ai/dwryu/TCN' target=\"_blank\">https://wandb.ai/dwryu/TCN</a>"
      ],
      "text/plain": [
       "<IPython.core.display.HTML object>"
      ]
     },
     "metadata": {},
     "output_type": "display_data"
    },
    {
     "data": {
      "text/html": [
       " View run at <a href='https://wandb.ai/dwryu/TCN/runs/pyoban93' target=\"_blank\">https://wandb.ai/dwryu/TCN/runs/pyoban93</a>"
      ],
      "text/plain": [
       "<IPython.core.display.HTML object>"
      ]
     },
     "metadata": {},
     "output_type": "display_data"
    },
    {
     "data": {
      "text/html": [
       "<button onClick=\"this.nextSibling.style.display='block';this.style.display='none';\">Display W&B run</button><iframe src='https://wandb.ai/dwryu/TCN/runs/pyoban93?jupyter=true' style='border:none;width:100%;height:420px;display:none;'></iframe>"
      ],
      "text/plain": [
       "<wandb.sdk.wandb_run.Run at 0x7f3039d90b20>"
      ]
     },
     "execution_count": 8,
     "metadata": {},
     "output_type": "execute_result"
    }
   ],
   "source": [
    "### 하이퍼파라미터 ###\n",
    "num_epochs = 100\n",
    "batch_size = 256\n",
    "clip= 1.0\n",
    "lr = 0.0001\n",
    "receptive_field_size = 127\n",
    "\n",
    "wandb.init(\n",
    "   project='TCN',\n",
    "   config = {\n",
    "      \"learning_rate\": lr,\n",
    "      \"epochs\": num_epochs,\n",
    "      \"batch_size\": batch_size\n",
    "    }\n",
    ")"
   ]
  },
  {
   "cell_type": "code",
   "execution_count": 9,
   "metadata": {},
   "outputs": [],
   "source": [
    "### Load the data ###\n",
    "dataset_train = Loader32(train_scaled, seq_len, window)\n",
    "dataset_val = Loader32(val_scaled, seq_len, window)\n",
    "dataset_test = Loader32(test_scaled, seq_len, window)\n",
    "\n",
    "dataloader_train = torch.utils.data.DataLoader(dataset_train, batch_size=batch_size, shuffle=True)\n",
    "dataloader_val = torch.utils.data.DataLoader(dataset_val, batch_size=batch_size, shuffle=True)\n",
    "dataloader_test = torch.utils.data.DataLoader(dataset_test, batch_size=batch_size, shuffle=False)"
   ]
  },
  {
   "cell_type": "code",
   "execution_count": 10,
   "metadata": {},
   "outputs": [],
   "source": [
    "model_path = \"best_model.pth\"\n",
    "### 모델 학습 ###\n",
    "def train(train_dataloader, val_dataloader, model, loss_fn, optimizer, num_epochs):\n",
    "    best_val_loss = float('inf')  # 초기 검증 손실 값을 무한대로 설정\n",
    "\n",
    "    for epoch in tqdm(range(num_epochs), leave=True):\n",
    "        ## 훈련단계\n",
    "        model.train()\n",
    "        total_train_loss = 0\n",
    "        for idx, (data, target) in enumerate(train_dataloader, 0):\n",
    "            if data == None or target == None:\n",
    "                continue\n",
    "            optimizer.zero_grad()\n",
    "            pred = model(data)        \n",
    "            loss = loss_fn(pred, target.reshape(-1, 1))\n",
    "            loss.backward()\n",
    "            optimizer.step()\n",
    "            for dp in model.parameters():\n",
    "                dp.data.clamp_(-clip, clip)\n",
    "            total_train_loss += loss.item()\n",
    "\n",
    "        ## 검증단계\n",
    "        model.eval()\n",
    "        total_val_loss = 0\n",
    "        with torch.no_grad():\n",
    "            for idx, (data, target) in enumerate(val_dataloader, 0):\n",
    "                val_pred = model(data)\n",
    "                val_loss = loss_fn(val_pred, target.reshape(-1, 1))\n",
    "                total_val_loss += val_loss.item()\n",
    "\n",
    "        # 검증 손실이 더 작으면 모델 저장\n",
    "        if total_val_loss < best_val_loss:\n",
    "            best_val_loss = total_val_loss\n",
    "            print('모델저장 epoch : ', epoch)\n",
    "            torch.save(model.state_dict(), model_path)\n",
    "\n",
    "        print(f\"Epoch [{epoch + 1}/{num_epochs}], Train Loss: {total_train_loss}, Validation Loss: {total_val_loss}\")\n",
    "        wandb.log({\"Train Loss\": total_train_loss, \"Validation Loss\": total_val_loss})\n",
    "    "
   ]
  },
  {
   "cell_type": "code",
   "execution_count": 11,
   "metadata": {},
   "outputs": [
    {
     "name": "stderr",
     "output_type": "stream",
     "text": [
      "  0%|          | 0/100 [00:00<?, ?it/s]"
     ]
    },
    {
     "name": "stderr",
     "output_type": "stream",
     "text": [
      "  1%|          | 1/100 [00:01<02:10,  1.32s/it]"
     ]
    },
    {
     "name": "stdout",
     "output_type": "stream",
     "text": [
      "모델저장 epoch :  0\n",
      "Epoch [1/100], Train Loss: 541.1631050109863, Validation Loss: 75.22408866882324\n"
     ]
    },
    {
     "name": "stderr",
     "output_type": "stream",
     "text": [
      "  2%|▏         | 2/100 [00:02<01:59,  1.22s/it]"
     ]
    },
    {
     "name": "stdout",
     "output_type": "stream",
     "text": [
      "모델저장 epoch :  1\n",
      "Epoch [2/100], Train Loss: 539.905460357666, Validation Loss: 74.86724281311035\n"
     ]
    },
    {
     "name": "stderr",
     "output_type": "stream",
     "text": [
      "  3%|▎         | 3/100 [00:03<01:56,  1.20s/it]"
     ]
    },
    {
     "name": "stdout",
     "output_type": "stream",
     "text": [
      "모델저장 epoch :  2\n",
      "Epoch [3/100], Train Loss: 540.7362937927246, Validation Loss: 74.16666030883789\n"
     ]
    },
    {
     "name": "stderr",
     "output_type": "stream",
     "text": [
      "  4%|▍         | 4/100 [00:04<01:53,  1.18s/it]"
     ]
    },
    {
     "name": "stdout",
     "output_type": "stream",
     "text": [
      "모델저장 epoch :  3\n",
      "Epoch [4/100], Train Loss: 534.2496871948242, Validation Loss: 73.79691886901855\n"
     ]
    },
    {
     "name": "stderr",
     "output_type": "stream",
     "text": [
      "  5%|▌         | 5/100 [00:05<01:51,  1.17s/it]"
     ]
    },
    {
     "name": "stdout",
     "output_type": "stream",
     "text": [
      "Epoch [5/100], Train Loss: 532.0310516357422, Validation Loss: 73.90165615081787\n"
     ]
    },
    {
     "name": "stderr",
     "output_type": "stream",
     "text": [
      "  6%|▌         | 6/100 [00:07<01:49,  1.17s/it]"
     ]
    },
    {
     "name": "stdout",
     "output_type": "stream",
     "text": [
      "모델저장 epoch :  5\n",
      "Epoch [6/100], Train Loss: 524.557149887085, Validation Loss: 73.28437042236328\n"
     ]
    },
    {
     "name": "stderr",
     "output_type": "stream",
     "text": [
      "  7%|▋         | 7/100 [00:08<01:49,  1.18s/it]"
     ]
    },
    {
     "name": "stdout",
     "output_type": "stream",
     "text": [
      "모델저장 epoch :  6\n",
      "Epoch [7/100], Train Loss: 520.8625717163086, Validation Loss: 72.3209457397461\n"
     ]
    },
    {
     "name": "stderr",
     "output_type": "stream",
     "text": [
      "  8%|▊         | 8/100 [00:09<01:48,  1.18s/it]"
     ]
    },
    {
     "name": "stdout",
     "output_type": "stream",
     "text": [
      "모델저장 epoch :  7\n",
      "Epoch [8/100], Train Loss: 513.3775253295898, Validation Loss: 70.99824142456055\n"
     ]
    },
    {
     "name": "stderr",
     "output_type": "stream",
     "text": [
      "  9%|▉         | 9/100 [00:10<01:46,  1.17s/it]"
     ]
    },
    {
     "name": "stdout",
     "output_type": "stream",
     "text": [
      "모델저장 epoch :  8\n",
      "Epoch [9/100], Train Loss: 503.3162307739258, Validation Loss: 70.06474590301514\n"
     ]
    },
    {
     "name": "stderr",
     "output_type": "stream",
     "text": [
      " 10%|█         | 10/100 [00:11<01:45,  1.17s/it]"
     ]
    },
    {
     "name": "stdout",
     "output_type": "stream",
     "text": [
      "Epoch [10/100], Train Loss: 485.2127456665039, Validation Loss: 70.13321685791016\n"
     ]
    },
    {
     "name": "stderr",
     "output_type": "stream",
     "text": [
      " 11%|█         | 11/100 [00:12<01:43,  1.17s/it]"
     ]
    },
    {
     "name": "stdout",
     "output_type": "stream",
     "text": [
      "Epoch [11/100], Train Loss: 475.0032196044922, Validation Loss: 70.19786834716797\n"
     ]
    },
    {
     "name": "stderr",
     "output_type": "stream",
     "text": [
      " 12%|█▏        | 12/100 [00:14<01:42,  1.16s/it]"
     ]
    },
    {
     "name": "stdout",
     "output_type": "stream",
     "text": [
      "모델저장 epoch :  11\n",
      "Epoch [12/100], Train Loss: 459.54133796691895, Validation Loss: 69.54070472717285\n"
     ]
    },
    {
     "name": "stderr",
     "output_type": "stream",
     "text": [
      " 13%|█▎        | 13/100 [00:15<01:40,  1.16s/it]"
     ]
    },
    {
     "name": "stdout",
     "output_type": "stream",
     "text": [
      "Epoch [13/100], Train Loss: 452.8898696899414, Validation Loss: 69.65399742126465\n"
     ]
    },
    {
     "name": "stderr",
     "output_type": "stream",
     "text": [
      " 14%|█▍        | 14/100 [00:16<01:38,  1.15s/it]"
     ]
    },
    {
     "name": "stdout",
     "output_type": "stream",
     "text": [
      "모델저장 epoch :  13\n",
      "Epoch [14/100], Train Loss: 449.55392837524414, Validation Loss: 68.48469829559326\n"
     ]
    },
    {
     "name": "stderr",
     "output_type": "stream",
     "text": [
      " 15%|█▌        | 15/100 [00:17<01:38,  1.16s/it]"
     ]
    },
    {
     "name": "stdout",
     "output_type": "stream",
     "text": [
      "모델저장 epoch :  14\n",
      "Epoch [15/100], Train Loss: 444.61694717407227, Validation Loss: 68.05121803283691\n"
     ]
    },
    {
     "name": "stderr",
     "output_type": "stream",
     "text": [
      " 16%|█▌        | 16/100 [00:18<01:37,  1.17s/it]"
     ]
    },
    {
     "name": "stdout",
     "output_type": "stream",
     "text": [
      "모델저장 epoch :  15\n",
      "Epoch [16/100], Train Loss: 438.0326747894287, Validation Loss: 67.34691524505615\n"
     ]
    },
    {
     "name": "stderr",
     "output_type": "stream",
     "text": [
      " 17%|█▋        | 17/100 [00:19<01:37,  1.18s/it]"
     ]
    },
    {
     "name": "stdout",
     "output_type": "stream",
     "text": [
      "Epoch [17/100], Train Loss: 434.7349090576172, Validation Loss: 68.19131660461426\n"
     ]
    },
    {
     "name": "stderr",
     "output_type": "stream",
     "text": [
      " 18%|█▊        | 18/100 [00:21<01:39,  1.21s/it]"
     ]
    },
    {
     "name": "stdout",
     "output_type": "stream",
     "text": [
      "모델저장 epoch :  17\n",
      "Epoch [18/100], Train Loss: 436.2828826904297, Validation Loss: 67.3166332244873\n"
     ]
    },
    {
     "name": "stderr",
     "output_type": "stream",
     "text": [
      " 19%|█▉        | 19/100 [00:22<01:39,  1.23s/it]"
     ]
    },
    {
     "name": "stdout",
     "output_type": "stream",
     "text": [
      "Epoch [19/100], Train Loss: 429.30593490600586, Validation Loss: 67.71657180786133\n"
     ]
    },
    {
     "name": "stderr",
     "output_type": "stream",
     "text": [
      " 20%|██        | 20/100 [00:23<01:40,  1.25s/it]"
     ]
    },
    {
     "name": "stdout",
     "output_type": "stream",
     "text": [
      "Epoch [20/100], Train Loss: 426.3027458190918, Validation Loss: 67.8675365447998\n"
     ]
    },
    {
     "name": "stderr",
     "output_type": "stream",
     "text": [
      " 21%|██        | 21/100 [00:25<01:40,  1.27s/it]"
     ]
    },
    {
     "name": "stdout",
     "output_type": "stream",
     "text": [
      "Epoch [21/100], Train Loss: 424.36292457580566, Validation Loss: 67.83412551879883\n"
     ]
    },
    {
     "name": "stderr",
     "output_type": "stream",
     "text": [
      " 22%|██▏       | 22/100 [00:26<01:39,  1.27s/it]"
     ]
    },
    {
     "name": "stdout",
     "output_type": "stream",
     "text": [
      "Epoch [22/100], Train Loss: 421.26849365234375, Validation Loss: 67.63135242462158\n"
     ]
    },
    {
     "name": "stderr",
     "output_type": "stream",
     "text": [
      " 23%|██▎       | 23/100 [00:27<01:37,  1.27s/it]"
     ]
    },
    {
     "name": "stdout",
     "output_type": "stream",
     "text": [
      "Epoch [23/100], Train Loss: 421.01368713378906, Validation Loss: 68.42770481109619\n"
     ]
    },
    {
     "name": "stderr",
     "output_type": "stream",
     "text": [
      " 24%|██▍       | 24/100 [00:28<01:35,  1.26s/it]"
     ]
    },
    {
     "name": "stdout",
     "output_type": "stream",
     "text": [
      "Epoch [24/100], Train Loss: 415.82975578308105, Validation Loss: 68.36457252502441\n"
     ]
    },
    {
     "name": "stderr",
     "output_type": "stream",
     "text": [
      " 25%|██▌       | 25/100 [00:30<01:32,  1.24s/it]"
     ]
    },
    {
     "name": "stdout",
     "output_type": "stream",
     "text": [
      "Epoch [25/100], Train Loss: 413.79922676086426, Validation Loss: 68.47929763793945\n"
     ]
    },
    {
     "name": "stderr",
     "output_type": "stream",
     "text": [
      " 26%|██▌       | 26/100 [00:31<01:31,  1.24s/it]"
     ]
    },
    {
     "name": "stdout",
     "output_type": "stream",
     "text": [
      "Epoch [26/100], Train Loss: 407.936279296875, Validation Loss: 69.7067756652832\n"
     ]
    },
    {
     "name": "stderr",
     "output_type": "stream",
     "text": [
      " 27%|██▋       | 27/100 [00:32<01:31,  1.25s/it]"
     ]
    },
    {
     "name": "stdout",
     "output_type": "stream",
     "text": [
      "Epoch [27/100], Train Loss: 402.749547958374, Validation Loss: 69.99381446838379\n"
     ]
    },
    {
     "name": "stderr",
     "output_type": "stream",
     "text": [
      " 28%|██▊       | 28/100 [00:33<01:30,  1.26s/it]"
     ]
    },
    {
     "name": "stdout",
     "output_type": "stream",
     "text": [
      "Epoch [28/100], Train Loss: 402.848352432251, Validation Loss: 70.65093326568604\n"
     ]
    },
    {
     "name": "stderr",
     "output_type": "stream",
     "text": [
      " 29%|██▉       | 29/100 [00:35<01:29,  1.25s/it]"
     ]
    },
    {
     "name": "stdout",
     "output_type": "stream",
     "text": [
      "Epoch [29/100], Train Loss: 403.461275100708, Validation Loss: 70.30187034606934\n"
     ]
    },
    {
     "name": "stderr",
     "output_type": "stream",
     "text": [
      " 30%|███       | 30/100 [00:36<01:27,  1.25s/it]"
     ]
    },
    {
     "name": "stdout",
     "output_type": "stream",
     "text": [
      "Epoch [30/100], Train Loss: 403.7615966796875, Validation Loss: 71.39038944244385\n"
     ]
    },
    {
     "name": "stderr",
     "output_type": "stream",
     "text": [
      " 31%|███       | 31/100 [00:37<01:25,  1.24s/it]"
     ]
    },
    {
     "name": "stdout",
     "output_type": "stream",
     "text": [
      "Epoch [31/100], Train Loss: 394.37440490722656, Validation Loss: 72.02621650695801\n"
     ]
    },
    {
     "name": "stderr",
     "output_type": "stream",
     "text": [
      " 32%|███▏      | 32/100 [00:38<01:24,  1.24s/it]"
     ]
    },
    {
     "name": "stdout",
     "output_type": "stream",
     "text": [
      "Epoch [32/100], Train Loss: 390.86997413635254, Validation Loss: 72.65498733520508\n"
     ]
    },
    {
     "name": "stderr",
     "output_type": "stream",
     "text": [
      " 33%|███▎      | 33/100 [00:40<01:23,  1.25s/it]"
     ]
    },
    {
     "name": "stdout",
     "output_type": "stream",
     "text": [
      "Epoch [33/100], Train Loss: 387.88673973083496, Validation Loss: 72.9882869720459\n"
     ]
    },
    {
     "name": "stderr",
     "output_type": "stream",
     "text": [
      " 34%|███▍      | 34/100 [00:41<01:22,  1.25s/it]"
     ]
    },
    {
     "name": "stdout",
     "output_type": "stream",
     "text": [
      "Epoch [34/100], Train Loss: 387.2346591949463, Validation Loss: 74.34272766113281\n"
     ]
    },
    {
     "name": "stderr",
     "output_type": "stream",
     "text": [
      " 35%|███▌      | 35/100 [00:42<01:20,  1.24s/it]"
     ]
    },
    {
     "name": "stdout",
     "output_type": "stream",
     "text": [
      "Epoch [35/100], Train Loss: 381.17563247680664, Validation Loss: 74.40959167480469\n"
     ]
    },
    {
     "name": "stderr",
     "output_type": "stream",
     "text": [
      " 36%|███▌      | 36/100 [00:43<01:19,  1.24s/it]"
     ]
    },
    {
     "name": "stdout",
     "output_type": "stream",
     "text": [
      "Epoch [36/100], Train Loss: 376.6806831359863, Validation Loss: 74.40402412414551\n"
     ]
    },
    {
     "name": "stderr",
     "output_type": "stream",
     "text": [
      " 37%|███▋      | 37/100 [00:45<01:19,  1.26s/it]"
     ]
    },
    {
     "name": "stdout",
     "output_type": "stream",
     "text": [
      "Epoch [37/100], Train Loss: 370.4851875305176, Validation Loss: 75.92694091796875\n"
     ]
    },
    {
     "name": "stderr",
     "output_type": "stream",
     "text": [
      " 38%|███▊      | 38/100 [00:46<01:16,  1.24s/it]"
     ]
    },
    {
     "name": "stdout",
     "output_type": "stream",
     "text": [
      "Epoch [38/100], Train Loss: 370.6870937347412, Validation Loss: 75.2715015411377\n"
     ]
    },
    {
     "name": "stderr",
     "output_type": "stream",
     "text": [
      " 39%|███▉      | 39/100 [00:47<01:14,  1.23s/it]"
     ]
    },
    {
     "name": "stdout",
     "output_type": "stream",
     "text": [
      "Epoch [39/100], Train Loss: 356.42938804626465, Validation Loss: 76.05393600463867\n"
     ]
    },
    {
     "name": "stderr",
     "output_type": "stream",
     "text": [
      " 40%|████      | 40/100 [00:48<01:13,  1.22s/it]"
     ]
    },
    {
     "name": "stdout",
     "output_type": "stream",
     "text": [
      "Epoch [40/100], Train Loss: 358.61624336242676, Validation Loss: 77.85067749023438\n"
     ]
    },
    {
     "name": "stderr",
     "output_type": "stream",
     "text": [
      " 41%|████      | 41/100 [00:49<01:12,  1.22s/it]"
     ]
    },
    {
     "name": "stdout",
     "output_type": "stream",
     "text": [
      "Epoch [41/100], Train Loss: 354.13255310058594, Validation Loss: 77.69591522216797\n"
     ]
    },
    {
     "name": "stderr",
     "output_type": "stream",
     "text": [
      " 42%|████▏     | 42/100 [00:51<01:10,  1.22s/it]"
     ]
    },
    {
     "name": "stdout",
     "output_type": "stream",
     "text": [
      "Epoch [42/100], Train Loss: 347.4064083099365, Validation Loss: 78.04032516479492\n"
     ]
    },
    {
     "name": "stderr",
     "output_type": "stream",
     "text": [
      " 43%|████▎     | 43/100 [00:52<01:09,  1.22s/it]"
     ]
    },
    {
     "name": "stdout",
     "output_type": "stream",
     "text": [
      "Epoch [43/100], Train Loss: 344.1363048553467, Validation Loss: 77.93234825134277\n"
     ]
    },
    {
     "name": "stderr",
     "output_type": "stream",
     "text": [
      " 44%|████▍     | 44/100 [00:53<01:07,  1.21s/it]"
     ]
    },
    {
     "name": "stdout",
     "output_type": "stream",
     "text": [
      "Epoch [44/100], Train Loss: 335.5996799468994, Validation Loss: 82.43615913391113\n"
     ]
    },
    {
     "name": "stderr",
     "output_type": "stream",
     "text": [
      " 45%|████▌     | 45/100 [00:54<01:05,  1.19s/it]"
     ]
    },
    {
     "name": "stdout",
     "output_type": "stream",
     "text": [
      "Epoch [45/100], Train Loss: 335.0571708679199, Validation Loss: 80.23328971862793\n"
     ]
    },
    {
     "name": "stderr",
     "output_type": "stream",
     "text": [
      " 46%|████▌     | 46/100 [00:55<01:03,  1.18s/it]"
     ]
    },
    {
     "name": "stdout",
     "output_type": "stream",
     "text": [
      "Epoch [46/100], Train Loss: 324.1080551147461, Validation Loss: 80.88249778747559\n"
     ]
    },
    {
     "name": "stderr",
     "output_type": "stream",
     "text": [
      " 47%|████▋     | 47/100 [00:57<01:03,  1.19s/it]"
     ]
    },
    {
     "name": "stdout",
     "output_type": "stream",
     "text": [
      "Epoch [47/100], Train Loss: 316.6682186126709, Validation Loss: 82.04390144348145\n"
     ]
    },
    {
     "name": "stderr",
     "output_type": "stream",
     "text": [
      " 48%|████▊     | 48/100 [00:58<01:01,  1.19s/it]"
     ]
    },
    {
     "name": "stdout",
     "output_type": "stream",
     "text": [
      "Epoch [48/100], Train Loss: 304.2769031524658, Validation Loss: 83.81711387634277\n"
     ]
    },
    {
     "name": "stderr",
     "output_type": "stream",
     "text": [
      " 49%|████▉     | 49/100 [00:59<01:00,  1.19s/it]"
     ]
    },
    {
     "name": "stdout",
     "output_type": "stream",
     "text": [
      "Epoch [49/100], Train Loss: 297.7834949493408, Validation Loss: 83.37975120544434\n"
     ]
    },
    {
     "name": "stderr",
     "output_type": "stream",
     "text": [
      " 50%|█████     | 50/100 [01:00<00:59,  1.19s/it]"
     ]
    },
    {
     "name": "stdout",
     "output_type": "stream",
     "text": [
      "Epoch [50/100], Train Loss: 291.7579936981201, Validation Loss: 85.7249813079834\n"
     ]
    },
    {
     "name": "stderr",
     "output_type": "stream",
     "text": [
      " 51%|█████     | 51/100 [01:01<00:58,  1.18s/it]"
     ]
    },
    {
     "name": "stdout",
     "output_type": "stream",
     "text": [
      "Epoch [51/100], Train Loss: 281.78069496154785, Validation Loss: 87.27019309997559\n"
     ]
    },
    {
     "name": "stderr",
     "output_type": "stream",
     "text": [
      " 52%|█████▏    | 52/100 [01:03<00:56,  1.19s/it]"
     ]
    },
    {
     "name": "stdout",
     "output_type": "stream",
     "text": [
      "Epoch [52/100], Train Loss: 274.52453804016113, Validation Loss: 86.54519844055176\n"
     ]
    },
    {
     "name": "stderr",
     "output_type": "stream",
     "text": [
      " 53%|█████▎    | 53/100 [01:04<00:55,  1.19s/it]"
     ]
    },
    {
     "name": "stdout",
     "output_type": "stream",
     "text": [
      "Epoch [53/100], Train Loss: 263.581729888916, Validation Loss: 87.8925666809082\n"
     ]
    },
    {
     "name": "stderr",
     "output_type": "stream",
     "text": [
      " 54%|█████▍    | 54/100 [01:05<00:54,  1.19s/it]"
     ]
    },
    {
     "name": "stdout",
     "output_type": "stream",
     "text": [
      "Epoch [54/100], Train Loss: 256.42834281921387, Validation Loss: 89.1982364654541\n"
     ]
    },
    {
     "name": "stderr",
     "output_type": "stream",
     "text": [
      " 55%|█████▌    | 55/100 [01:06<00:53,  1.19s/it]"
     ]
    },
    {
     "name": "stdout",
     "output_type": "stream",
     "text": [
      "Epoch [55/100], Train Loss: 251.24146842956543, Validation Loss: 90.68285179138184\n"
     ]
    },
    {
     "name": "stderr",
     "output_type": "stream",
     "text": [
      " 56%|█████▌    | 56/100 [01:07<00:52,  1.20s/it]"
     ]
    },
    {
     "name": "stdout",
     "output_type": "stream",
     "text": [
      "Epoch [56/100], Train Loss: 242.00017642974854, Validation Loss: 90.89980697631836\n"
     ]
    },
    {
     "name": "stderr",
     "output_type": "stream",
     "text": [
      " 57%|█████▋    | 57/100 [01:09<00:51,  1.21s/it]"
     ]
    },
    {
     "name": "stdout",
     "output_type": "stream",
     "text": [
      "Epoch [57/100], Train Loss: 243.72954750061035, Validation Loss: 92.49744033813477\n"
     ]
    },
    {
     "name": "stderr",
     "output_type": "stream",
     "text": [
      " 58%|█████▊    | 58/100 [01:10<00:50,  1.21s/it]"
     ]
    },
    {
     "name": "stdout",
     "output_type": "stream",
     "text": [
      "Epoch [58/100], Train Loss: 236.16260433197021, Validation Loss: 91.86967468261719\n"
     ]
    },
    {
     "name": "stderr",
     "output_type": "stream",
     "text": [
      " 59%|█████▉    | 59/100 [01:11<00:49,  1.20s/it]"
     ]
    },
    {
     "name": "stdout",
     "output_type": "stream",
     "text": [
      "Epoch [59/100], Train Loss: 231.32350540161133, Validation Loss: 92.78483581542969\n"
     ]
    },
    {
     "name": "stderr",
     "output_type": "stream",
     "text": [
      " 60%|██████    | 60/100 [01:12<00:47,  1.19s/it]"
     ]
    },
    {
     "name": "stdout",
     "output_type": "stream",
     "text": [
      "Epoch [60/100], Train Loss: 221.91864776611328, Validation Loss: 94.96625137329102\n"
     ]
    },
    {
     "name": "stderr",
     "output_type": "stream",
     "text": [
      " 61%|██████    | 61/100 [01:13<00:46,  1.19s/it]"
     ]
    },
    {
     "name": "stdout",
     "output_type": "stream",
     "text": [
      "Epoch [61/100], Train Loss: 216.59635543823242, Validation Loss: 96.81020164489746\n"
     ]
    },
    {
     "name": "stderr",
     "output_type": "stream",
     "text": [
      " 62%|██████▏   | 62/100 [01:15<00:45,  1.19s/it]"
     ]
    },
    {
     "name": "stdout",
     "output_type": "stream",
     "text": [
      "Epoch [62/100], Train Loss: 212.4706048965454, Validation Loss: 95.33735847473145\n"
     ]
    },
    {
     "name": "stderr",
     "output_type": "stream",
     "text": [
      " 63%|██████▎   | 63/100 [01:16<00:44,  1.20s/it]"
     ]
    },
    {
     "name": "stdout",
     "output_type": "stream",
     "text": [
      "Epoch [63/100], Train Loss: 200.2731533050537, Validation Loss: 96.39355850219727\n"
     ]
    },
    {
     "name": "stderr",
     "output_type": "stream",
     "text": [
      " 64%|██████▍   | 64/100 [01:17<00:43,  1.21s/it]"
     ]
    },
    {
     "name": "stdout",
     "output_type": "stream",
     "text": [
      "Epoch [64/100], Train Loss: 198.85087394714355, Validation Loss: 95.79146003723145\n"
     ]
    },
    {
     "name": "stderr",
     "output_type": "stream",
     "text": [
      " 65%|██████▌   | 65/100 [01:18<00:42,  1.21s/it]"
     ]
    },
    {
     "name": "stdout",
     "output_type": "stream",
     "text": [
      "Epoch [65/100], Train Loss: 201.26158809661865, Validation Loss: 95.40951728820801\n"
     ]
    },
    {
     "name": "stderr",
     "output_type": "stream",
     "text": [
      " 66%|██████▌   | 66/100 [01:19<00:41,  1.21s/it]"
     ]
    },
    {
     "name": "stdout",
     "output_type": "stream",
     "text": [
      "Epoch [66/100], Train Loss: 187.89569091796875, Validation Loss: 99.21177864074707\n"
     ]
    },
    {
     "name": "stderr",
     "output_type": "stream",
     "text": [
      " 67%|██████▋   | 67/100 [01:21<00:39,  1.20s/it]"
     ]
    },
    {
     "name": "stdout",
     "output_type": "stream",
     "text": [
      "Epoch [67/100], Train Loss: 185.62390995025635, Validation Loss: 99.62369728088379\n"
     ]
    },
    {
     "name": "stderr",
     "output_type": "stream",
     "text": [
      " 68%|██████▊   | 68/100 [01:22<00:38,  1.20s/it]"
     ]
    },
    {
     "name": "stdout",
     "output_type": "stream",
     "text": [
      "Epoch [68/100], Train Loss: 183.14201641082764, Validation Loss: 99.51156616210938\n"
     ]
    },
    {
     "name": "stderr",
     "output_type": "stream",
     "text": [
      " 69%|██████▉   | 69/100 [01:23<00:36,  1.19s/it]"
     ]
    },
    {
     "name": "stdout",
     "output_type": "stream",
     "text": [
      "Epoch [69/100], Train Loss: 190.38360500335693, Validation Loss: 98.92316818237305\n"
     ]
    },
    {
     "name": "stderr",
     "output_type": "stream",
     "text": [
      " 70%|███████   | 70/100 [01:24<00:35,  1.19s/it]"
     ]
    },
    {
     "name": "stdout",
     "output_type": "stream",
     "text": [
      "Epoch [70/100], Train Loss: 186.15459632873535, Validation Loss: 98.30918884277344\n"
     ]
    },
    {
     "name": "stderr",
     "output_type": "stream",
     "text": [
      " 71%|███████   | 71/100 [01:25<00:34,  1.20s/it]"
     ]
    },
    {
     "name": "stdout",
     "output_type": "stream",
     "text": [
      "Epoch [71/100], Train Loss: 179.96118068695068, Validation Loss: 101.17209243774414\n"
     ]
    },
    {
     "name": "stderr",
     "output_type": "stream",
     "text": [
      " 72%|███████▏  | 72/100 [01:27<00:33,  1.21s/it]"
     ]
    },
    {
     "name": "stdout",
     "output_type": "stream",
     "text": [
      "Epoch [72/100], Train Loss: 174.78264999389648, Validation Loss: 100.05517959594727\n"
     ]
    },
    {
     "name": "stderr",
     "output_type": "stream",
     "text": [
      " 73%|███████▎  | 73/100 [01:28<00:32,  1.20s/it]"
     ]
    },
    {
     "name": "stdout",
     "output_type": "stream",
     "text": [
      "Epoch [73/100], Train Loss: 164.73669052124023, Validation Loss: 101.6069221496582\n"
     ]
    },
    {
     "name": "stderr",
     "output_type": "stream",
     "text": [
      " 74%|███████▍  | 74/100 [01:29<00:30,  1.18s/it]"
     ]
    },
    {
     "name": "stdout",
     "output_type": "stream",
     "text": [
      "Epoch [74/100], Train Loss: 165.09457206726074, Validation Loss: 100.83175277709961\n"
     ]
    },
    {
     "name": "stderr",
     "output_type": "stream",
     "text": [
      " 75%|███████▌  | 75/100 [01:30<00:29,  1.18s/it]"
     ]
    },
    {
     "name": "stdout",
     "output_type": "stream",
     "text": [
      "Epoch [75/100], Train Loss: 163.09984302520752, Validation Loss: 101.33768081665039\n"
     ]
    },
    {
     "name": "stderr",
     "output_type": "stream",
     "text": [
      " 76%|███████▌  | 76/100 [01:31<00:28,  1.17s/it]"
     ]
    },
    {
     "name": "stdout",
     "output_type": "stream",
     "text": [
      "Epoch [76/100], Train Loss: 162.5276288986206, Validation Loss: 101.63912200927734\n"
     ]
    },
    {
     "name": "stderr",
     "output_type": "stream",
     "text": [
      " 77%|███████▋  | 77/100 [01:32<00:27,  1.18s/it]"
     ]
    },
    {
     "name": "stdout",
     "output_type": "stream",
     "text": [
      "Epoch [77/100], Train Loss: 161.52504348754883, Validation Loss: 102.61859321594238\n"
     ]
    },
    {
     "name": "stderr",
     "output_type": "stream",
     "text": [
      " 78%|███████▊  | 78/100 [01:34<00:26,  1.19s/it]"
     ]
    },
    {
     "name": "stdout",
     "output_type": "stream",
     "text": [
      "Epoch [78/100], Train Loss: 153.41016578674316, Validation Loss: 103.77165794372559\n"
     ]
    },
    {
     "name": "stderr",
     "output_type": "stream",
     "text": [
      " 79%|███████▉  | 79/100 [01:35<00:25,  1.20s/it]"
     ]
    },
    {
     "name": "stdout",
     "output_type": "stream",
     "text": [
      "Epoch [79/100], Train Loss: 153.8588466644287, Validation Loss: 105.82989311218262\n"
     ]
    },
    {
     "name": "stderr",
     "output_type": "stream",
     "text": [
      " 80%|████████  | 80/100 [01:36<00:23,  1.19s/it]"
     ]
    },
    {
     "name": "stdout",
     "output_type": "stream",
     "text": [
      "Epoch [80/100], Train Loss: 154.1316499710083, Validation Loss: 103.31721687316895\n"
     ]
    },
    {
     "name": "stderr",
     "output_type": "stream",
     "text": [
      " 81%|████████  | 81/100 [01:37<00:22,  1.19s/it]"
     ]
    },
    {
     "name": "stdout",
     "output_type": "stream",
     "text": [
      "Epoch [81/100], Train Loss: 153.33992862701416, Validation Loss: 106.81170463562012\n"
     ]
    },
    {
     "name": "stderr",
     "output_type": "stream",
     "text": [
      " 82%|████████▏ | 82/100 [01:38<00:21,  1.18s/it]"
     ]
    },
    {
     "name": "stdout",
     "output_type": "stream",
     "text": [
      "Epoch [82/100], Train Loss: 149.93661212921143, Validation Loss: 106.1543083190918\n"
     ]
    },
    {
     "name": "stderr",
     "output_type": "stream",
     "text": [
      " 83%|████████▎ | 83/100 [01:40<00:20,  1.18s/it]"
     ]
    },
    {
     "name": "stdout",
     "output_type": "stream",
     "text": [
      "Epoch [83/100], Train Loss: 146.06520462036133, Validation Loss: 104.24738693237305\n"
     ]
    },
    {
     "name": "stderr",
     "output_type": "stream",
     "text": [
      " 84%|████████▍ | 84/100 [01:41<00:19,  1.20s/it]"
     ]
    },
    {
     "name": "stdout",
     "output_type": "stream",
     "text": [
      "Epoch [84/100], Train Loss: 145.37327098846436, Validation Loss: 104.39962196350098\n"
     ]
    },
    {
     "name": "stderr",
     "output_type": "stream",
     "text": [
      " 85%|████████▌ | 85/100 [01:42<00:18,  1.20s/it]"
     ]
    },
    {
     "name": "stdout",
     "output_type": "stream",
     "text": [
      "Epoch [85/100], Train Loss: 140.1786527633667, Validation Loss: 106.12198448181152\n"
     ]
    },
    {
     "name": "stderr",
     "output_type": "stream",
     "text": [
      " 86%|████████▌ | 86/100 [01:43<00:16,  1.20s/it]"
     ]
    },
    {
     "name": "stdout",
     "output_type": "stream",
     "text": [
      "Epoch [86/100], Train Loss: 139.0915994644165, Validation Loss: 106.85831832885742\n"
     ]
    },
    {
     "name": "stderr",
     "output_type": "stream",
     "text": [
      " 87%|████████▋ | 87/100 [01:44<00:15,  1.20s/it]"
     ]
    },
    {
     "name": "stdout",
     "output_type": "stream",
     "text": [
      "Epoch [87/100], Train Loss: 139.66291332244873, Validation Loss: 104.7180118560791\n"
     ]
    },
    {
     "name": "stderr",
     "output_type": "stream",
     "text": [
      " 88%|████████▊ | 88/100 [01:46<00:14,  1.20s/it]"
     ]
    },
    {
     "name": "stdout",
     "output_type": "stream",
     "text": [
      "Epoch [88/100], Train Loss: 146.89755249023438, Validation Loss: 105.59389686584473\n"
     ]
    },
    {
     "name": "stderr",
     "output_type": "stream",
     "text": [
      " 89%|████████▉ | 89/100 [01:47<00:13,  1.20s/it]"
     ]
    },
    {
     "name": "stdout",
     "output_type": "stream",
     "text": [
      "Epoch [89/100], Train Loss: 137.4032154083252, Validation Loss: 105.52326774597168\n"
     ]
    },
    {
     "name": "stderr",
     "output_type": "stream",
     "text": [
      " 90%|█████████ | 90/100 [01:48<00:11,  1.20s/it]"
     ]
    },
    {
     "name": "stdout",
     "output_type": "stream",
     "text": [
      "Epoch [90/100], Train Loss: 131.70782661437988, Validation Loss: 106.65189361572266\n"
     ]
    },
    {
     "name": "stderr",
     "output_type": "stream",
     "text": [
      " 91%|█████████ | 91/100 [01:49<00:10,  1.18s/it]"
     ]
    },
    {
     "name": "stdout",
     "output_type": "stream",
     "text": [
      "Epoch [91/100], Train Loss: 131.60848236083984, Validation Loss: 108.42189979553223\n"
     ]
    },
    {
     "name": "stderr",
     "output_type": "stream",
     "text": [
      " 92%|█████████▏| 92/100 [01:50<00:09,  1.19s/it]"
     ]
    },
    {
     "name": "stdout",
     "output_type": "stream",
     "text": [
      "Epoch [92/100], Train Loss: 134.93960094451904, Validation Loss: 111.96533584594727\n"
     ]
    },
    {
     "name": "stderr",
     "output_type": "stream",
     "text": [
      " 93%|█████████▎| 93/100 [01:52<00:08,  1.20s/it]"
     ]
    },
    {
     "name": "stdout",
     "output_type": "stream",
     "text": [
      "Epoch [93/100], Train Loss: 127.45014095306396, Validation Loss: 110.89164543151855\n"
     ]
    },
    {
     "name": "stderr",
     "output_type": "stream",
     "text": [
      " 94%|█████████▍| 94/100 [01:53<00:07,  1.22s/it]"
     ]
    },
    {
     "name": "stdout",
     "output_type": "stream",
     "text": [
      "Epoch [94/100], Train Loss: 129.5778522491455, Validation Loss: 108.8081283569336\n"
     ]
    },
    {
     "name": "stderr",
     "output_type": "stream",
     "text": [
      " 95%|█████████▌| 95/100 [01:54<00:06,  1.22s/it]"
     ]
    },
    {
     "name": "stdout",
     "output_type": "stream",
     "text": [
      "Epoch [95/100], Train Loss: 121.51156902313232, Validation Loss: 110.7491512298584\n"
     ]
    },
    {
     "name": "stderr",
     "output_type": "stream",
     "text": [
      " 96%|█████████▌| 96/100 [01:55<00:04,  1.22s/it]"
     ]
    },
    {
     "name": "stdout",
     "output_type": "stream",
     "text": [
      "Epoch [96/100], Train Loss: 127.23223972320557, Validation Loss: 108.60307312011719\n"
     ]
    },
    {
     "name": "stderr",
     "output_type": "stream",
     "text": [
      " 97%|█████████▋| 97/100 [01:56<00:03,  1.22s/it]"
     ]
    },
    {
     "name": "stdout",
     "output_type": "stream",
     "text": [
      "Epoch [97/100], Train Loss: 119.17849731445312, Validation Loss: 110.09998321533203\n"
     ]
    },
    {
     "name": "stderr",
     "output_type": "stream",
     "text": [
      " 98%|█████████▊| 98/100 [01:58<00:02,  1.22s/it]"
     ]
    },
    {
     "name": "stdout",
     "output_type": "stream",
     "text": [
      "Epoch [98/100], Train Loss: 117.90166997909546, Validation Loss: 112.60974502563477\n"
     ]
    },
    {
     "name": "stderr",
     "output_type": "stream",
     "text": [
      " 99%|█████████▉| 99/100 [01:59<00:01,  1.22s/it]"
     ]
    },
    {
     "name": "stdout",
     "output_type": "stream",
     "text": [
      "Epoch [99/100], Train Loss: 121.30226135253906, Validation Loss: 112.30259895324707\n"
     ]
    },
    {
     "name": "stderr",
     "output_type": "stream",
     "text": [
      "100%|██████████| 100/100 [02:00<00:00,  1.21s/it]"
     ]
    },
    {
     "name": "stdout",
     "output_type": "stream",
     "text": [
      "Epoch [100/100], Train Loss: 119.78225708007812, Validation Loss: 109.58991813659668\n"
     ]
    },
    {
     "name": "stderr",
     "output_type": "stream",
     "text": [
      "\n"
     ]
    }
   ],
   "source": [
    "### TCN 모델 초기화 및 정의 ###\n",
    "input_channels=8\n",
    "output_size=1\n",
    "kernel_size=2\n",
    "dropout=0.05\n",
    "model = TCN(input_channels, output_size, kernel_size, dropout)\n",
    "loss_fn = nn.MSELoss()\n",
    "optimizer = optim.Adam(model.parameters(), lr=lr)\n",
    "train(dataloader_train, dataloader_val, model, loss_fn, optimizer, num_epochs)"
   ]
  },
  {
   "cell_type": "code",
   "execution_count": 12,
   "metadata": {},
   "outputs": [],
   "source": [
    "### 모델 테스트 ###\n",
    "\n",
    "model.load_state_dict(torch.load(model_path))\n",
    "\n",
    "pred_y = []     # 예측값\n",
    "target_y = []   # 실제값\n",
    "\n",
    "with torch.no_grad():\n",
    "    model.eval()\n",
    "    for idx, (data, target) in enumerate(dataloader_test, 0):\n",
    "        if data == None or target == None:\n",
    "            continue\n",
    "        pred = model(data)\n",
    "        pred_y.append(pred)\n",
    "        target_y.append(target)\n",
    "\n",
    "pred_y = torch.cat(pred_y, dim=0).numpy()\n",
    "target_y = torch.cat(target_y, dim=0).numpy()\n",
    "\n",
    "### inverse 스케일링\n",
    "pred_y = (pred_y.reshape(-1) * std[3]) + mean[3]\n",
    "target_y = (target_y * std[3]) + mean[3]\n"
   ]
  },
  {
   "cell_type": "code",
   "execution_count": 13,
   "metadata": {},
   "outputs": [
    {
     "data": {
      "image/png": "[encoded data removed]",
      "text/plain": [
       "<Figure size 1500x600 with 1 Axes>"
      ]
     },
     "metadata": {},
     "output_type": "display_data"
    }
   ],
   "source": [
    "\n",
    "# 가격 데이터를 볼 경우 plot\n",
    "\n",
    "from matplotlib.ticker import MultipleLocator\n",
    "\n",
    "plt.figure(figsize=(15,6))\n",
    "\n",
    "\n",
    "plt.plot(target_y[:300], label='real')\n",
    "plt.plot(pred_y[:300], label='pred')\n",
    "#plt.plot(pred_y + target_y[0] - pred_y[0], label='pred')  # 첫 번째 시계열 데이터 플롯\n",
    "\n",
    "plt.legend()\n",
    "plt.grid(True)\n",
    "plt.xticks(np.arange(0, 300, 5))  # 40 단위로 레이블 표시\n",
    "\n",
    "plt.show()\n"
   ]
  },
  {
   "cell_type": "code",
   "execution_count": 14,
   "metadata": {},
   "outputs": [
    {
     "data": {
      "text/plain": [
       "[<matplotlib.lines.Line2D at 0x7f3032762d10>]"
      ]
     },
     "execution_count": 14,
     "metadata": {},
     "output_type": "execute_result"
    },
    {
     "data": {
      "image/png": "[encoded data removed]",
      "text/plain": [
       "<Figure size 1500x600 with 1 Axes>"
      ]
     },
     "metadata": {},
     "output_type": "display_data"
    }
   ],
   "source": [
    "# 로그리턴일 경우\n",
    "pred_y\n",
    "target_y\n",
    "plt.figure(figsize=(15,6))\n",
    "\n",
    "plt.plot(target_y, label='real')\n",
    "plt.plot(pred_y, label='pred')\n"
   ]
  },
  {
   "cell_type": "code",
   "execution_count": null,
   "metadata": {},
   "outputs": [],
   "source": []
  },
  {
   "cell_type": "code",
   "execution_count": null,
   "metadata": {},
   "outputs": [],
   "source": []
  }
 ],
 "metadata": {
  "kernelspec": {
   "display_name": "base",
   "language": "python",
   "name": "python3"
  },
  "language_info": {
   "codemirror_mode": {
    "name": "ipython",
    "version": 3
   },
   "file_extension": ".py",
   "mimetype": "text/x-python",
   "name": "python",
   "nbconvert_exporter": "python",
   "pygments_lexer": "ipython3",
   "version": "3.10.8"
  }
 },
 "nbformat": 4,
 "nbformat_minor": 2
}
